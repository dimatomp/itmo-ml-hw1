{
 "cells": [
  {
   "cell_type": "code",
   "execution_count": 1,
   "metadata": {
    "collapsed": true
   },
   "outputs": [],
   "source": [
    "%matplotlib inline\n",
    "\n",
    "import pandas as pd\n",
    "import numpy as np\n",
    "from matplotlib import pyplot as plt\n",
    "import sklearn"
   ]
  },
  {
   "cell_type": "code",
   "execution_count": 4,
   "metadata": {
    "collapsed": false
   },
   "outputs": [
    {
     "data": {
      "text/html": [
       "<div>\n",
       "<table border=\"1\" class=\"dataframe\">\n",
       "  <thead>\n",
       "    <tr style=\"text-align: right;\">\n",
       "      <th></th>\n",
       "      <th>0</th>\n",
       "      <th>1</th>\n",
       "      <th>2</th>\n",
       "    </tr>\n",
       "  </thead>\n",
       "  <tbody>\n",
       "    <tr>\n",
       "      <th>0</th>\n",
       "      <td>0.051267</td>\n",
       "      <td>0.69956</td>\n",
       "      <td>1</td>\n",
       "    </tr>\n",
       "    <tr>\n",
       "      <th>1</th>\n",
       "      <td>-0.092742</td>\n",
       "      <td>0.68494</td>\n",
       "      <td>1</td>\n",
       "    </tr>\n",
       "    <tr>\n",
       "      <th>2</th>\n",
       "      <td>-0.213710</td>\n",
       "      <td>0.69225</td>\n",
       "      <td>1</td>\n",
       "    </tr>\n",
       "    <tr>\n",
       "      <th>3</th>\n",
       "      <td>-0.375000</td>\n",
       "      <td>0.50219</td>\n",
       "      <td>1</td>\n",
       "    </tr>\n",
       "    <tr>\n",
       "      <th>4</th>\n",
       "      <td>-0.513250</td>\n",
       "      <td>0.46564</td>\n",
       "      <td>1</td>\n",
       "    </tr>\n",
       "  </tbody>\n",
       "</table>\n",
       "</div>"
      ],
      "text/plain": [
       "          0        1  2\n",
       "0  0.051267  0.69956  1\n",
       "1 -0.092742  0.68494  1\n",
       "2 -0.213710  0.69225  1\n",
       "3 -0.375000  0.50219  1\n",
       "4 -0.513250  0.46564  1"
      ]
     },
     "execution_count": 4,
     "metadata": {},
     "output_type": "execute_result"
    }
   ],
   "source": [
    "dataset = pd.read_csv('chips.txt', header=None)\n",
    "dataset.head()"
   ]
  },
  {
   "cell_type": "code",
   "execution_count": 6,
   "metadata": {
    "collapsed": false
   },
   "outputs": [
    {
     "data": {
      "text/plain": [
       "{0, 1}"
      ]
     },
     "execution_count": 6,
     "metadata": {},
     "output_type": "execute_result"
    }
   ],
   "source": [
    "set(dataset[2])"
   ]
  },
  {
   "cell_type": "code",
   "execution_count": 7,
   "metadata": {
    "collapsed": true
   },
   "outputs": [],
   "source": [
    "zeroLabels = dataset[dataset[2] == 0]\n",
    "oneLabels = dataset[dataset[2] == 1]"
   ]
  },
  {
   "cell_type": "code",
   "execution_count": 9,
   "metadata": {
    "collapsed": false
   },
   "outputs": [
    {
     "data": {
      "text/plain": [
       "<matplotlib.collections.PathCollection at 0x7fcda13ef0f0>"
      ]
     },
     "execution_count": 9,
     "metadata": {},
     "output_type": "execute_result"
    },
    {
     "data": {
      "image/png": "[encoded data removed]",
      "text/plain": [
       "<matplotlib.figure.Figure at 0x7fcda13ef9b0>"
      ]
     },
     "metadata": {},
     "output_type": "display_data"
    }
   ],
   "source": [
    "plt.scatter(zeroLabels[0], zeroLabels[1], c='blue')\n",
    "plt.scatter(oneLabels[0], oneLabels[1], c='red')"
   ]
  },
  {
   "cell_type": "code",
   "execution_count": 92,
   "metadata": {
    "collapsed": true
   },
   "outputs": [],
   "source": [
    "from sklearn.base import BaseEstimator, ClassifierMixin\n",
    "from sklearn.neighbors import BallTree\n",
    "\n",
    "class KNNClassifier(BaseEstimator, ClassifierMixin):\n",
    "    def __init__(self, convert=lambda x: x, n_neighbors=3, metric=\"euclidean\"):\n",
    "        self.convert = convert\n",
    "        self.n_neighbors = n_neighbors\n",
    "        self.metric = metric\n",
    "    \n",
    "    def set_params(self, **params):\n",
    "        self.convert = params[\"convert\"]\n",
    "        self.n_neighbors = params[\"n_neighbors\"]\n",
    "        self.metric = params[\"metric\"]\n",
    "        return self\n",
    "        \n",
    "    def get_params(self, deep=None):\n",
    "        return {\"convert\": self.convert, \"n_neighbors\": self.n_neighbors, \"metric\": self.metric}\n",
    "        \n",
    "    def fit(self, X, y):\n",
    "        X = np.apply_along_axis(self.convert, 1, X)\n",
    "        self.tree = BallTree(X, metric=self.metric)\n",
    "        self.y = np.array(y)\n",
    "        self.labels = np.array(list(set(y)))\n",
    "    \n",
    "    def predict(self, X):\n",
    "        X = np.apply_along_axis(self.convert, 1, X)\n",
    "        nearest = self.tree.query(X, k=self.n_neighbors, return_distance=False)\n",
    "        counts = []\n",
    "        for label in self.labels:\n",
    "            bools = np.where(self.y[nearest] == label, 1, 0)\n",
    "            counts.append(np.sum(bools, axis=1))\n",
    "        #counts = [np.where(self.y[nearest] == label, 1, 0).sum(axis=1) for label in self.labels]\n",
    "        return self.labels[np.argmax(np.array(counts), axis=0)]"
   ]
  },
  {
   "cell_type": "code",
   "execution_count": 71,
   "metadata": {
    "collapsed": false
   },
   "outputs": [
    {
     "data": {
      "text/plain": [
       "0.66666666666666663"
      ]
     },
     "execution_count": 71,
     "metadata": {},
     "output_type": "execute_result"
    }
   ],
   "source": [
    "from sklearn.cross_validation import cross_val_score, train_test_split\n",
    "\n",
    "classifier = KNNClassifier()\n",
    "xTrain, xTest, yTrain, yTest = train_test_split(dataset[[0,1]], dataset[2])\n",
    "classifier.fit(xTrain, yTrain)\n",
    "classifier.score(xTest, yTest)"
   ]
  },
  {
   "cell_type": "code",
   "execution_count": 72,
   "metadata": {
    "collapsed": false
   },
   "outputs": [
    {
     "data": {
      "text/plain": [
       "array([ 0.625     ,  0.25      ,  0.58333333,  0.69565217,  0.73913043])"
      ]
     },
     "execution_count": 72,
     "metadata": {},
     "output_type": "execute_result"
    }
   ],
   "source": [
    "cross_val_score(KNNClassifier(), dataset[[0,1]], dataset[2], cv=5)"
   ]
  },
  {
   "cell_type": "code",
   "execution_count": 84,
   "metadata": {
    "collapsed": false
   },
   "outputs": [
    {
     "data": {
      "text/plain": [
       "array([[ 0.27013269,  0.00148653],\n",
       "       [ 0.00148653,  0.25206432]])"
      ]
     },
     "execution_count": 84,
     "metadata": {},
     "output_type": "execute_result"
    }
   ],
   "source": [
    "covMatrix = np.cov(dataset[[1,2]].T)\n",
    "covMatrix"
   ]
  },
  {
   "cell_type": "code",
   "execution_count": 117,
   "metadata": {
    "collapsed": false
   },
   "outputs": [
    {
     "name": "stdout",
     "output_type": "stream",
     "text": [
      "0.669491525424 KNNClassifier(convert=ExpEuclidean, metric='manhattan', n_neighbors=3)\n"
     ]
    },
    {
     "data": {
      "text/plain": [
       "[mean: 0.60169, std: 0.14441, params: {'metric': 'euclidean', 'convert': Linear, 'n_neighbors': 2},\n",
       " mean: 0.57627, std: 0.17299, params: {'metric': 'euclidean', 'convert': Linear, 'n_neighbors': 3},\n",
       " mean: 0.50000, std: 0.14207, params: {'metric': 'euclidean', 'convert': Linear, 'n_neighbors': 5},\n",
       " mean: 0.48305, std: 0.14669, params: {'metric': 'euclidean', 'convert': Linear, 'n_neighbors': 7},\n",
       " mean: 0.60169, std: 0.16464, params: {'metric': 'manhattan', 'convert': Linear, 'n_neighbors': 2},\n",
       " mean: 0.57627, std: 0.14780, params: {'metric': 'manhattan', 'convert': Linear, 'n_neighbors': 3},\n",
       " mean: 0.51695, std: 0.14083, params: {'metric': 'manhattan', 'convert': Linear, 'n_neighbors': 5},\n",
       " mean: 0.51695, std: 0.12022, params: {'metric': 'manhattan', 'convert': Linear, 'n_neighbors': 7},\n",
       " mean: 0.60169, std: 0.16464, params: {'metric': 'euclidean', 'convert': Euclidean, 'n_neighbors': 2},\n",
       " mean: 0.61864, std: 0.19073, params: {'metric': 'euclidean', 'convert': Euclidean, 'n_neighbors': 3},\n",
       " mean: 0.60169, std: 0.16036, params: {'metric': 'euclidean', 'convert': Euclidean, 'n_neighbors': 5},\n",
       " mean: 0.55932, std: 0.15518, params: {'metric': 'euclidean', 'convert': Euclidean, 'n_neighbors': 7},\n",
       " mean: 0.61017, std: 0.18591, params: {'metric': 'manhattan', 'convert': Euclidean, 'n_neighbors': 2},\n",
       " mean: 0.66102, std: 0.15811, params: {'metric': 'manhattan', 'convert': Euclidean, 'n_neighbors': 3},\n",
       " mean: 0.59322, std: 0.16012, params: {'metric': 'manhattan', 'convert': Euclidean, 'n_neighbors': 5},\n",
       " mean: 0.59322, std: 0.13985, params: {'metric': 'manhattan', 'convert': Euclidean, 'n_neighbors': 7},\n",
       " mean: 0.60169, std: 0.14502, params: {'metric': 'euclidean', 'convert': Mahalanobis, 'n_neighbors': 2},\n",
       " mean: 0.60169, std: 0.16036, params: {'metric': 'euclidean', 'convert': Mahalanobis, 'n_neighbors': 3},\n",
       " mean: 0.53390, std: 0.13433, params: {'metric': 'euclidean', 'convert': Mahalanobis, 'n_neighbors': 5},\n",
       " mean: 0.50847, std: 0.16281, params: {'metric': 'euclidean', 'convert': Mahalanobis, 'n_neighbors': 7},\n",
       " mean: 0.61017, std: 0.18591, params: {'metric': 'manhattan', 'convert': Mahalanobis, 'n_neighbors': 2},\n",
       " mean: 0.64407, std: 0.16514, params: {'metric': 'manhattan', 'convert': Mahalanobis, 'n_neighbors': 3},\n",
       " mean: 0.58475, std: 0.15724, params: {'metric': 'manhattan', 'convert': Mahalanobis, 'n_neighbors': 5},\n",
       " mean: 0.54237, std: 0.15278, params: {'metric': 'manhattan', 'convert': Mahalanobis, 'n_neighbors': 7},\n",
       " mean: 0.62712, std: 0.17074, params: {'metric': 'euclidean', 'convert': ExpEuclidean, 'n_neighbors': 2},\n",
       " mean: 0.65254, std: 0.14473, params: {'metric': 'euclidean', 'convert': ExpEuclidean, 'n_neighbors': 3},\n",
       " mean: 0.61017, std: 0.15761, params: {'metric': 'euclidean', 'convert': ExpEuclidean, 'n_neighbors': 5},\n",
       " mean: 0.66102, std: 0.12087, params: {'metric': 'euclidean', 'convert': ExpEuclidean, 'n_neighbors': 7},\n",
       " mean: 0.63559, std: 0.15249, params: {'metric': 'manhattan', 'convert': ExpEuclidean, 'n_neighbors': 2},\n",
       " mean: 0.66949, std: 0.17151, params: {'metric': 'manhattan', 'convert': ExpEuclidean, 'n_neighbors': 3},\n",
       " mean: 0.61017, std: 0.15999, params: {'metric': 'manhattan', 'convert': ExpEuclidean, 'n_neighbors': 5},\n",
       " mean: 0.63559, std: 0.14755, params: {'metric': 'manhattan', 'convert': ExpEuclidean, 'n_neighbors': 7},\n",
       " mean: 0.59322, std: 0.16064, params: {'metric': 'euclidean', 'convert': ExpMahalanobis, 'n_neighbors': 2},\n",
       " mean: 0.60169, std: 0.18232, params: {'metric': 'euclidean', 'convert': ExpMahalanobis, 'n_neighbors': 3},\n",
       " mean: 0.58475, std: 0.15724, params: {'metric': 'euclidean', 'convert': ExpMahalanobis, 'n_neighbors': 5},\n",
       " mean: 0.54237, std: 0.16102, params: {'metric': 'euclidean', 'convert': ExpMahalanobis, 'n_neighbors': 7},\n",
       " mean: 0.61017, std: 0.18591, params: {'metric': 'manhattan', 'convert': ExpMahalanobis, 'n_neighbors': 2},\n",
       " mean: 0.64407, std: 0.16766, params: {'metric': 'manhattan', 'convert': ExpMahalanobis, 'n_neighbors': 3},\n",
       " mean: 0.59322, std: 0.13456, params: {'metric': 'manhattan', 'convert': ExpMahalanobis, 'n_neighbors': 5},\n",
       " mean: 0.61017, std: 0.14241, params: {'metric': 'manhattan', 'convert': ExpMahalanobis, 'n_neighbors': 7},\n",
       " mean: 0.62712, std: 0.09853, params: {'metric': 'euclidean', 'convert': Polar, 'n_neighbors': 2},\n",
       " mean: 0.63559, std: 0.16067, params: {'metric': 'euclidean', 'convert': Polar, 'n_neighbors': 3},\n",
       " mean: 0.61864, std: 0.15122, params: {'metric': 'euclidean', 'convert': Polar, 'n_neighbors': 5},\n",
       " mean: 0.66102, std: 0.16456, params: {'metric': 'euclidean', 'convert': Polar, 'n_neighbors': 7},\n",
       " mean: 0.61017, std: 0.09107, params: {'metric': 'manhattan', 'convert': Polar, 'n_neighbors': 2},\n",
       " mean: 0.62712, std: 0.13221, params: {'metric': 'manhattan', 'convert': Polar, 'n_neighbors': 3},\n",
       " mean: 0.62712, std: 0.17549, params: {'metric': 'manhattan', 'convert': Polar, 'n_neighbors': 5},\n",
       " mean: 0.65254, std: 0.16492, params: {'metric': 'manhattan', 'convert': Polar, 'n_neighbors': 7}]"
      ]
     },
     "execution_count": 117,
     "metadata": {},
     "output_type": "execute_result"
    }
   ],
   "source": [
    "from sklearn.grid_search import GridSearchCV\n",
    "from numpy.linalg import norm\n",
    "from scipy.spatial.distance import mahalanobis as mahalDistance\n",
    "\n",
    "def prettyPrint(name):\n",
    "    def annotate(f):\n",
    "        class Transform:\n",
    "            def __repr__(self): return name\n",
    "            def __call__(self, x): return f(x)\n",
    "        return Transform()\n",
    "    return annotate\n",
    "\n",
    "@prettyPrint(\"Linear\") \n",
    "def linear(x): return x\n",
    "@prettyPrint(\"Euclidean\") \n",
    "def euclidean(x): return np.append(x, norm(x - mean))\n",
    "@prettyPrint(\"Mahalanobis\") \n",
    "def mahalanobis(x): return np.append(x, mahalDistance(x, mean, covMatrix))\n",
    "@prettyPrint(\"Manhattan\") \n",
    "def manhattan(x): return (x - mean).abs().sum()\n",
    "@prettyPrint(\"ExpEuclidean\") \n",
    "def expEuclidean(x): return np.append(x, np.exp(norm(x - mean)))\n",
    "@prettyPrint(\"ExpMahalanobis\") \n",
    "def expMahalanobis(x): return np.append(x, np.exp(mahalDistance(x, mean, covMatrix)))\n",
    "@prettyPrint(\"Polar\")\n",
    "def polar(x):\n",
    "    r = x - mean\n",
    "    return np.array([norm(r), abs(np.arctan2(r[0], r[1]))])\n",
    "\n",
    "mean = dataset[[0,1]].mean()\n",
    "KNNSearchCV = GridSearchCV(KNNClassifier(), {\"convert\": \n",
    "                                             [linear, euclidean, mahalanobis, expEuclidean, expMahalanobis, polar],\n",
    "                                           \"metric\": [\"euclidean\", \"manhattan\"],\n",
    "                                           \"n_neighbors\": [2, 3, 5, 7]}, cv=5)\n",
    "KNNSearchCV.fit(dataset[[0,1]], dataset[2])\n",
    "print(KNNSearchCV.best_score_, KNNSearchCV.best_estimator_)\n",
    "KNNSearchCV.grid_scores_"
   ]
  }
 ],
 "metadata": {
  "kernelspec": {
   "display_name": "Python 3",
   "language": "python",
   "name": "python3"
  },
  "language_info": {
   "codemirror_mode": {
    "name": "ipython",
    "version": 3
   },
   "file_extension": ".py",
   "mimetype": "text/x-python",
   "name": "python",
   "nbconvert_exporter": "python",
   "pygments_lexer": "ipython3",
   "version": "3.5.2"
  }
 },
 "nbformat": 4,
 "nbformat_minor": 0
}
