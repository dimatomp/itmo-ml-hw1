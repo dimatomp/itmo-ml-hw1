{
 "cells": [
  {
   "cell_type": "code",
   "execution_count": 358,
   "metadata": {
    "collapsed": true
   },
   "outputs": [],
   "source": [
    "%matplotlib inline\n",
    "\n",
    "import pandas as pd\n",
    "import numpy as np\n",
    "from matplotlib import pyplot as plt\n",
    "import sklearn"
   ]
  },
  {
   "cell_type": "code",
   "execution_count": 359,
   "metadata": {
    "collapsed": false
   },
   "outputs": [
    {
     "data": {
      "text/html": [
       "<div>\n",
       "<table border=\"1\" class=\"dataframe\">\n",
       "  <thead>\n",
       "    <tr style=\"text-align: right;\">\n",
       "      <th></th>\n",
       "      <th>0</th>\n",
       "      <th>1</th>\n",
       "      <th>2</th>\n",
       "    </tr>\n",
       "  </thead>\n",
       "  <tbody>\n",
       "    <tr>\n",
       "      <th>0</th>\n",
       "      <td>0.051267</td>\n",
       "      <td>0.69956</td>\n",
       "      <td>1</td>\n",
       "    </tr>\n",
       "    <tr>\n",
       "      <th>1</th>\n",
       "      <td>-0.092742</td>\n",
       "      <td>0.68494</td>\n",
       "      <td>1</td>\n",
       "    </tr>\n",
       "    <tr>\n",
       "      <th>2</th>\n",
       "      <td>-0.213710</td>\n",
       "      <td>0.69225</td>\n",
       "      <td>1</td>\n",
       "    </tr>\n",
       "    <tr>\n",
       "      <th>3</th>\n",
       "      <td>-0.375000</td>\n",
       "      <td>0.50219</td>\n",
       "      <td>1</td>\n",
       "    </tr>\n",
       "    <tr>\n",
       "      <th>4</th>\n",
       "      <td>-0.513250</td>\n",
       "      <td>0.46564</td>\n",
       "      <td>1</td>\n",
       "    </tr>\n",
       "  </tbody>\n",
       "</table>\n",
       "</div>"
      ],
      "text/plain": [
       "          0        1  2\n",
       "0  0.051267  0.69956  1\n",
       "1 -0.092742  0.68494  1\n",
       "2 -0.213710  0.69225  1\n",
       "3 -0.375000  0.50219  1\n",
       "4 -0.513250  0.46564  1"
      ]
     },
     "execution_count": 359,
     "metadata": {},
     "output_type": "execute_result"
    }
   ],
   "source": [
    "dataset = pd.read_csv('chips.txt', header=None)\n",
    "dataset.head()"
   ]
  },
  {
   "cell_type": "code",
   "execution_count": 360,
   "metadata": {
    "collapsed": false
   },
   "outputs": [
    {
     "data": {
      "text/plain": [
       "{0, 1}"
      ]
     },
     "execution_count": 360,
     "metadata": {},
     "output_type": "execute_result"
    }
   ],
   "source": [
    "set(dataset[2])"
   ]
  },
  {
   "cell_type": "code",
   "execution_count": 361,
   "metadata": {
    "collapsed": true
   },
   "outputs": [],
   "source": [
    "zeroLabels = dataset[dataset[2] == 0]\n",
    "oneLabels = dataset[dataset[2] == 1]"
   ]
  },
  {
   "cell_type": "code",
   "execution_count": 374,
   "metadata": {
    "collapsed": false
   },
   "outputs": [
    {
     "data": {
      "text/plain": [
       "<matplotlib.collections.PathCollection at 0x7f19fe25c898>"
      ]
     },
     "execution_count": 374,
     "metadata": {},
     "output_type": "execute_result"
    },
    {
     "data": {
      "image/png": "[encoded data removed]",
      "text/plain": [
       "<matplotlib.figure.Figure at 0x7f19fe2c5438>"
      ]
     },
     "metadata": {},
     "output_type": "display_data"
    }
   ],
   "source": [
    "plt.scatter(zeroLabels[0], zeroLabels[1], c='blue')\n",
    "plt.scatter(oneLabels[0], oneLabels[1], c='red')\n"
   ]
  },
  {
   "cell_type": "code",
   "execution_count": 368,
   "metadata": {
    "collapsed": true
   },
   "outputs": [],
   "source": [
    "from sklearn.base import BaseEstimator, ClassifierMixin\n",
    "from sklearn.neighbors import BallTree\n",
    "\n",
    "class KNNClassifier(BaseEstimator, ClassifierMixin):\n",
    "    def __init__(self, convert=lambda x: x, n_neighbors=3, metric=\"euclidean\"):\n",
    "        self.convert = convert\n",
    "        self.n_neighbors = n_neighbors\n",
    "        self.metric = metric\n",
    "    \n",
    "    def set_params(self, **params):\n",
    "        self.convert = params[\"convert\"]\n",
    "        self.n_neighbors = params[\"n_neighbors\"]\n",
    "        self.metric = params[\"metric\"]\n",
    "        return self\n",
    "        \n",
    "    def get_params(self, deep=None):\n",
    "        return {\"convert\": self.convert, \"n_neighbors\": self.n_neighbors, \"metric\": self.metric}\n",
    "        \n",
    "    def fit(self, X, y):\n",
    "        X = np.apply_along_axis(self.convert, 1, X)\n",
    "        self.tree = BallTree(X, metric=self.metric)\n",
    "        self.y = np.array(y)\n",
    "        self.labels = np.array(list(set(y)))\n",
    "    \n",
    "    def predict(self, X):\n",
    "        X = np.apply_along_axis(self.convert, 1, X)\n",
    "        nearest = self.tree.query(X, k=self.n_neighbors, return_distance=False)\n",
    "        counts = [np.where(self.y[nearest] == label, 1, 0).sum(axis=1) for label in self.labels]\n",
    "        return self.labels[np.argmax(np.array(counts), axis=0)]"
   ]
  },
  {
   "cell_type": "code",
   "execution_count": 369,
   "metadata": {
    "collapsed": false
   },
   "outputs": [
    {
     "data": {
      "text/plain": [
       "0.6333333333333333"
      ]
     },
     "execution_count": 369,
     "metadata": {},
     "output_type": "execute_result"
    }
   ],
   "source": [
    "from sklearn.cross_validation import cross_val_score, train_test_split\n",
    "\n",
    "classifier = KNNClassifier()\n",
    "xTrain, xTest, yTrain, yTest = train_test_split(dataset[[0,1]], dataset[2])\n",
    "classifier.fit(xTrain, yTrain)\n",
    "classifier.score(xTest, yTest)"
   ]
  },
  {
   "cell_type": "code",
   "execution_count": 365,
   "metadata": {
    "collapsed": false
   },
   "outputs": [
    {
     "data": {
      "text/plain": [
       "array([ 0.83333333,  0.41666667,  0.41666667,  0.08333333,  0.58333333,\n",
       "        0.5       ,  0.91666667,  0.58333333,  0.72727273,  0.72727273])"
      ]
     },
     "execution_count": 365,
     "metadata": {},
     "output_type": "execute_result"
    }
   ],
   "source": [
    "cross_val_score(KNNClassifier(), dataset[[0,1]], dataset[2], cv=10)"
   ]
  },
  {
   "cell_type": "code",
   "execution_count": 366,
   "metadata": {
    "collapsed": false
   },
   "outputs": [
    {
     "data": {
      "text/plain": [
       "array([[ 0.27013269,  0.00148653],\n",
       "       [ 0.00148653,  0.25206432]])"
      ]
     },
     "execution_count": 366,
     "metadata": {},
     "output_type": "execute_result"
    }
   ],
   "source": [
    "covMatrix = np.cov(dataset[[1,2]].T)\n",
    "covMatrix"
   ]
  },
  {
   "cell_type": "code",
   "execution_count": 380,
   "metadata": {
    "collapsed": false,
    "scrolled": false
   },
   "outputs": [
    {
     "name": "stdout",
     "output_type": "stream",
     "text": [
      "0.728813559322 KNNClassifier(convert=ExpEuclidean, metric='euclidean', n_neighbors=14)\n"
     ]
    },
    {
     "data": {
      "text/plain": [
       "[mean: 0.58475, std: 0.16111, params: {'metric': 'euclidean', 'convert': Linear, 'n_neighbors': 2},\n",
       " mean: 0.57627, std: 0.22964, params: {'metric': 'euclidean', 'convert': Linear, 'n_neighbors': 3},\n",
       " mean: 0.52542, std: 0.21129, params: {'metric': 'euclidean', 'convert': Linear, 'n_neighbors': 5},\n",
       " mean: 0.53390, std: 0.19935, params: {'metric': 'euclidean', 'convert': Linear, 'n_neighbors': 7},\n",
       " mean: 0.55085, std: 0.23445, params: {'metric': 'euclidean', 'convert': Linear, 'n_neighbors': 9},\n",
       " mean: 0.57627, std: 0.24599, params: {'metric': 'euclidean', 'convert': Linear, 'n_neighbors': 10},\n",
       " mean: 0.51695, std: 0.19282, params: {'metric': 'euclidean', 'convert': Linear, 'n_neighbors': 12},\n",
       " mean: 0.50000, std: 0.19249, params: {'metric': 'euclidean', 'convert': Linear, 'n_neighbors': 14},\n",
       " mean: 0.60169, std: 0.20553, params: {'metric': 'manhattan', 'convert': Linear, 'n_neighbors': 2},\n",
       " mean: 0.60169, std: 0.19513, params: {'metric': 'manhattan', 'convert': Linear, 'n_neighbors': 3},\n",
       " mean: 0.55932, std: 0.19732, params: {'metric': 'manhattan', 'convert': Linear, 'n_neighbors': 5},\n",
       " mean: 0.55085, std: 0.16489, params: {'metric': 'manhattan', 'convert': Linear, 'n_neighbors': 7},\n",
       " mean: 0.54237, std: 0.19237, params: {'metric': 'manhattan', 'convert': Linear, 'n_neighbors': 9},\n",
       " mean: 0.56780, std: 0.20797, params: {'metric': 'manhattan', 'convert': Linear, 'n_neighbors': 10},\n",
       " mean: 0.51695, std: 0.19282, params: {'metric': 'manhattan', 'convert': Linear, 'n_neighbors': 12},\n",
       " mean: 0.47458, std: 0.15816, params: {'metric': 'manhattan', 'convert': Linear, 'n_neighbors': 14},\n",
       " mean: 0.59322, std: 0.19401, params: {'metric': 'euclidean', 'convert': Euclidean, 'n_neighbors': 2},\n",
       " mean: 0.63559, std: 0.24321, params: {'metric': 'euclidean', 'convert': Euclidean, 'n_neighbors': 3},\n",
       " mean: 0.61017, std: 0.21914, params: {'metric': 'euclidean', 'convert': Euclidean, 'n_neighbors': 5},\n",
       " mean: 0.61017, std: 0.20625, params: {'metric': 'euclidean', 'convert': Euclidean, 'n_neighbors': 7},\n",
       " mean: 0.61017, std: 0.22687, params: {'metric': 'euclidean', 'convert': Euclidean, 'n_neighbors': 9},\n",
       " mean: 0.66949, std: 0.20651, params: {'metric': 'euclidean', 'convert': Euclidean, 'n_neighbors': 10},\n",
       " mean: 0.64407, std: 0.22172, params: {'metric': 'euclidean', 'convert': Euclidean, 'n_neighbors': 12},\n",
       " mean: 0.65254, std: 0.22845, params: {'metric': 'euclidean', 'convert': Euclidean, 'n_neighbors': 14},\n",
       " mean: 0.61864, std: 0.18908, params: {'metric': 'manhattan', 'convert': Euclidean, 'n_neighbors': 2},\n",
       " mean: 0.68644, std: 0.21704, params: {'metric': 'manhattan', 'convert': Euclidean, 'n_neighbors': 3},\n",
       " mean: 0.61864, std: 0.21448, params: {'metric': 'manhattan', 'convert': Euclidean, 'n_neighbors': 5},\n",
       " mean: 0.63559, std: 0.17531, params: {'metric': 'manhattan', 'convert': Euclidean, 'n_neighbors': 7},\n",
       " mean: 0.66102, std: 0.21470, params: {'metric': 'manhattan', 'convert': Euclidean, 'n_neighbors': 9},\n",
       " mean: 0.66949, std: 0.21797, params: {'metric': 'manhattan', 'convert': Euclidean, 'n_neighbors': 10},\n",
       " mean: 0.66102, std: 0.21955, params: {'metric': 'manhattan', 'convert': Euclidean, 'n_neighbors': 12},\n",
       " mean: 0.67797, std: 0.21180, params: {'metric': 'manhattan', 'convert': Euclidean, 'n_neighbors': 14},\n",
       " mean: 0.58475, std: 0.16111, params: {'metric': 'euclidean', 'convert': Mahalanobis, 'n_neighbors': 2},\n",
       " mean: 0.61864, std: 0.21648, params: {'metric': 'euclidean', 'convert': Mahalanobis, 'n_neighbors': 3},\n",
       " mean: 0.55932, std: 0.20761, params: {'metric': 'euclidean', 'convert': Mahalanobis, 'n_neighbors': 5},\n",
       " mean: 0.54237, std: 0.20169, params: {'metric': 'euclidean', 'convert': Mahalanobis, 'n_neighbors': 7},\n",
       " mean: 0.56780, std: 0.23016, params: {'metric': 'euclidean', 'convert': Mahalanobis, 'n_neighbors': 9},\n",
       " mean: 0.60169, std: 0.23225, params: {'metric': 'euclidean', 'convert': Mahalanobis, 'n_neighbors': 10},\n",
       " mean: 0.56780, std: 0.21253, params: {'metric': 'euclidean', 'convert': Mahalanobis, 'n_neighbors': 12},\n",
       " mean: 0.52542, std: 0.19007, params: {'metric': 'euclidean', 'convert': Mahalanobis, 'n_neighbors': 14},\n",
       " mean: 0.61864, std: 0.18908, params: {'metric': 'manhattan', 'convert': Mahalanobis, 'n_neighbors': 2},\n",
       " mean: 0.67797, std: 0.22760, params: {'metric': 'manhattan', 'convert': Mahalanobis, 'n_neighbors': 3},\n",
       " mean: 0.61017, std: 0.19922, params: {'metric': 'manhattan', 'convert': Mahalanobis, 'n_neighbors': 5},\n",
       " mean: 0.58475, std: 0.21438, params: {'metric': 'manhattan', 'convert': Mahalanobis, 'n_neighbors': 7},\n",
       " mean: 0.60169, std: 0.22069, params: {'metric': 'manhattan', 'convert': Mahalanobis, 'n_neighbors': 9},\n",
       " mean: 0.61017, std: 0.21412, params: {'metric': 'manhattan', 'convert': Mahalanobis, 'n_neighbors': 10},\n",
       " mean: 0.62712, std: 0.22263, params: {'metric': 'manhattan', 'convert': Mahalanobis, 'n_neighbors': 12},\n",
       " mean: 0.65254, std: 0.23147, params: {'metric': 'manhattan', 'convert': Mahalanobis, 'n_neighbors': 14},\n",
       " mean: 0.63559, std: 0.15666, params: {'metric': 'euclidean', 'convert': ExpEuclidean, 'n_neighbors': 2},\n",
       " mean: 0.68644, std: 0.17045, params: {'metric': 'euclidean', 'convert': ExpEuclidean, 'n_neighbors': 3},\n",
       " mean: 0.63559, std: 0.20273, params: {'metric': 'euclidean', 'convert': ExpEuclidean, 'n_neighbors': 5},\n",
       " mean: 0.66102, std: 0.16746, params: {'metric': 'euclidean', 'convert': ExpEuclidean, 'n_neighbors': 7},\n",
       " mean: 0.69492, std: 0.19409, params: {'metric': 'euclidean', 'convert': ExpEuclidean, 'n_neighbors': 9},\n",
       " mean: 0.72034, std: 0.17133, params: {'metric': 'euclidean', 'convert': ExpEuclidean, 'n_neighbors': 10},\n",
       " mean: 0.72034, std: 0.14970, params: {'metric': 'euclidean', 'convert': ExpEuclidean, 'n_neighbors': 12},\n",
       " mean: 0.72881, std: 0.17280, params: {'metric': 'euclidean', 'convert': ExpEuclidean, 'n_neighbors': 14},\n",
       " mean: 0.64407, std: 0.14183, params: {'metric': 'manhattan', 'convert': ExpEuclidean, 'n_neighbors': 2},\n",
       " mean: 0.68644, std: 0.20384, params: {'metric': 'manhattan', 'convert': ExpEuclidean, 'n_neighbors': 3},\n",
       " mean: 0.66949, std: 0.21313, params: {'metric': 'manhattan', 'convert': ExpEuclidean, 'n_neighbors': 5},\n",
       " mean: 0.67797, std: 0.19226, params: {'metric': 'manhattan', 'convert': ExpEuclidean, 'n_neighbors': 7},\n",
       " mean: 0.67797, std: 0.19111, params: {'metric': 'manhattan', 'convert': ExpEuclidean, 'n_neighbors': 9},\n",
       " mean: 0.70339, std: 0.17031, params: {'metric': 'manhattan', 'convert': ExpEuclidean, 'n_neighbors': 10},\n",
       " mean: 0.70339, std: 0.17031, params: {'metric': 'manhattan', 'convert': ExpEuclidean, 'n_neighbors': 12},\n",
       " mean: 0.72881, std: 0.15622, params: {'metric': 'manhattan', 'convert': ExpEuclidean, 'n_neighbors': 14},\n",
       " mean: 0.58475, std: 0.18138, params: {'metric': 'euclidean', 'convert': ExpMahalanobsis, 'n_neighbors': 2},\n",
       " mean: 0.61864, std: 0.22877, params: {'metric': 'euclidean', 'convert': ExpMahalanobsis, 'n_neighbors': 3},\n",
       " mean: 0.59322, std: 0.21752, params: {'metric': 'euclidean', 'convert': ExpMahalanobsis, 'n_neighbors': 5},\n",
       " mean: 0.57627, std: 0.22478, params: {'metric': 'euclidean', 'convert': ExpMahalanobsis, 'n_neighbors': 7},\n",
       " mean: 0.58475, std: 0.22144, params: {'metric': 'euclidean', 'convert': ExpMahalanobsis, 'n_neighbors': 9},\n",
       " mean: 0.64407, std: 0.23530, params: {'metric': 'euclidean', 'convert': ExpMahalanobsis, 'n_neighbors': 10},\n",
       " mean: 0.61864, std: 0.21122, params: {'metric': 'euclidean', 'convert': ExpMahalanobsis, 'n_neighbors': 12},\n",
       " mean: 0.56780, std: 0.22520, params: {'metric': 'euclidean', 'convert': ExpMahalanobsis, 'n_neighbors': 14},\n",
       " mean: 0.61864, std: 0.18908, params: {'metric': 'manhattan', 'convert': ExpMahalanobsis, 'n_neighbors': 2},\n",
       " mean: 0.67797, std: 0.23063, params: {'metric': 'manhattan', 'convert': ExpMahalanobsis, 'n_neighbors': 3},\n",
       " mean: 0.61017, std: 0.20072, params: {'metric': 'manhattan', 'convert': ExpMahalanobsis, 'n_neighbors': 5},\n",
       " mean: 0.64407, std: 0.17854, params: {'metric': 'manhattan', 'convert': ExpMahalanobsis, 'n_neighbors': 7},\n",
       " mean: 0.62712, std: 0.19053, params: {'metric': 'manhattan', 'convert': ExpMahalanobsis, 'n_neighbors': 9},\n",
       " mean: 0.66102, std: 0.21313, params: {'metric': 'manhattan', 'convert': ExpMahalanobsis, 'n_neighbors': 10},\n",
       " mean: 0.64407, std: 0.21857, params: {'metric': 'manhattan', 'convert': ExpMahalanobsis, 'n_neighbors': 12},\n",
       " mean: 0.66102, std: 0.22884, params: {'metric': 'manhattan', 'convert': ExpMahalanobsis, 'n_neighbors': 14},\n",
       " mean: 0.61017, std: 0.11386, params: {'metric': 'euclidean', 'convert': Polar, 'n_neighbors': 2},\n",
       " mean: 0.63559, std: 0.19120, params: {'metric': 'euclidean', 'convert': Polar, 'n_neighbors': 3},\n",
       " mean: 0.61017, std: 0.17311, params: {'metric': 'euclidean', 'convert': Polar, 'n_neighbors': 5},\n",
       " mean: 0.66102, std: 0.18030, params: {'metric': 'euclidean', 'convert': Polar, 'n_neighbors': 7},\n",
       " mean: 0.65254, std: 0.21020, params: {'metric': 'euclidean', 'convert': Polar, 'n_neighbors': 9},\n",
       " mean: 0.62712, std: 0.24021, params: {'metric': 'euclidean', 'convert': Polar, 'n_neighbors': 10},\n",
       " mean: 0.61017, std: 0.22813, params: {'metric': 'euclidean', 'convert': Polar, 'n_neighbors': 12},\n",
       " mean: 0.59322, std: 0.22669, params: {'metric': 'euclidean', 'convert': Polar, 'n_neighbors': 14},\n",
       " mean: 0.61864, std: 0.13106, params: {'metric': 'manhattan', 'convert': Polar, 'n_neighbors': 2},\n",
       " mean: 0.62712, std: 0.17926, params: {'metric': 'manhattan', 'convert': Polar, 'n_neighbors': 3},\n",
       " mean: 0.62712, std: 0.15104, params: {'metric': 'manhattan', 'convert': Polar, 'n_neighbors': 5},\n",
       " mean: 0.63559, std: 0.19120, params: {'metric': 'manhattan', 'convert': Polar, 'n_neighbors': 7},\n",
       " mean: 0.61017, std: 0.22229, params: {'metric': 'manhattan', 'convert': Polar, 'n_neighbors': 9},\n",
       " mean: 0.61017, std: 0.24318, params: {'metric': 'manhattan', 'convert': Polar, 'n_neighbors': 10},\n",
       " mean: 0.59322, std: 0.23570, params: {'metric': 'manhattan', 'convert': Polar, 'n_neighbors': 12},\n",
       " mean: 0.57627, std: 0.21123, params: {'metric': 'manhattan', 'convert': Polar, 'n_neighbors': 14}]"
      ]
     },
     "execution_count": 380,
     "metadata": {},
     "output_type": "execute_result"
    }
   ],
   "source": [
    "from sklearn.grid_search import GridSearchCV\n",
    "from numpy.linalg import norm\n",
    "from scipy.spatial.distance import mahalanobis as mahalDistance\n",
    "\n",
    "def prettyPrint(name):\n",
    "    def annotate(f):\n",
    "        class Transform:\n",
    "            def __repr__(self): return name\n",
    "            def __call__(self, x): return f(x)\n",
    "        return Transform()\n",
    "    return annotate\n",
    "\n",
    "@prettyPrint(\"Linear\") \n",
    "def linear(x): return x\n",
    "@prettyPrint(\"Euclidean\") \n",
    "def euclidean(x): return np.append(x, norm(x - mean))\n",
    "@prettyPrint(\"Mahalanobis\") \n",
    "def mahalanobis(x): return np.append(x, mahalDistance(x, mean, covMatrix))\n",
    "@prettyPrint(\"Manhattan\") \n",
    "def manhattan(x): return (x - mean).abs().sum()\n",
    "@prettyPrint(\"ExpEuclidean\") \n",
    "def expEuclidean(x): return np.append(x, np.exp(norm(x - mean)))\n",
    "@prettyPrint(\"ExpMahalanobsis\") \n",
    "def expMahalanobis(x): return np.append(x, np.exp(mahalDistance(x, mean, covMatrix)))\n",
    "@prettyPrint(\"Polar\")\n",
    "def polar(x):\n",
    "    r = x - mean\n",
    "    return np.array([norm(r), abs(np.arctan2(r[0], r[1]))])\n",
    "\n",
    "mean = dataset[[0,1]].mean()\n",
    "KNNSearchCV = GridSearchCV(KNNClassifier(), {\"convert\": \n",
    "                                             [linear, euclidean, mahalanobis, expEuclidean, expMahalanobis, polar],\n",
    "                                           \"metric\": [\"euclidean\", \"manhattan\"],\n",
    "                                           \"n_neighbors\": [2, 3, 5, 7, 9, 10, 12, 14]}, cv=10)\n",
    "KNNSearchCV.fit(dataset[[0,1]], dataset[2])\n",
    "print(KNNSearchCV.best_score_, KNNSearchCV.best_estimator_)\n",
    "KNNSearchCV.grid_scores_"
   ]
  },
  {
   "cell_type": "code",
   "execution_count": null,
   "metadata": {
    "collapsed": true
   },
   "outputs": [],
   "source": []
  }
 ],
 "metadata": {
  "kernelspec": {
   "display_name": "Python [Root]",
   "language": "python",
   "name": "Python [Root]"
  },
  "language_info": {
   "codemirror_mode": {
    "name": "ipython",
    "version": 3
   },
   "file_extension": ".py",
   "mimetype": "text/x-python",
   "name": "python",
   "nbconvert_exporter": "python",
   "pygments_lexer": "ipython3",
   "version": "3.5.2"
  }
 },
 "nbformat": 4,
 "nbformat_minor": 0
}
